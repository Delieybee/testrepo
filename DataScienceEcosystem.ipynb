{
 "cells": [
  {
   "cell_type": "markdown",
   "id": "8634bdf7-d4db-45c6-8453-a1ab0cfacfa0",
   "metadata": {},
   "source": [
    "# Data Science Tools and Ecosystem"
   ]
  },
  {
   "cell_type": "markdown",
   "id": "60a865fe-2616-4421-9c5b-8d3e689151f1",
   "metadata": {},
   "source": [
    "In this notebook, Data Science Tools and Ecosystem are summarized."
   ]
  },
  {
   "cell_type": "markdown",
   "id": "caab0916-231c-4d9a-a781-8ea6a984f35f",
   "metadata": {},
   "source": [
    "**Objectives:**\n",
    "* Data Science Tools and Ecosystem\n",
    "* Popular languages used by Data Scientists\n",
    "* Commonly used libraries by Data scientists\n",
    "* Development environment open source tools used in data science\n",
    "* Creating a siple arithmetic expression\n",
    "* Creating a code cell to convert minutes to hours"
   ]
  },
  {
   "cell_type": "markdown",
   "id": "3ccffb5a-4ee8-4052-a6e0-ef5ee10306c3",
   "metadata": {},
   "source": [
    "Some of the popular languages that Data Scientists use are:\n",
    "1. Python\n",
    "2. R\n",
    "3. SQL\n",
    "4. Julia"
   ]
  },
  {
   "cell_type": "markdown",
   "id": "9ebbbc2c-18f7-4539-b956-92a1e1cf289f",
   "metadata": {},
   "source": [
    "Some of the commonly used libraries used by Data Scientists include:\n",
    "\n",
    "1. Pandas\n",
    "2. NumPy\n",
    "3. Matplotlib\n",
    "4. TensorFlow"
   ]
  },
  {
   "cell_type": "markdown",
   "id": "7d7cdc9b-ac27-4d4f-8bce-53f23e4acac1",
   "metadata": {},
   "source": [
    "|Data Science Tools|\n",
    "|-------------------|\n",
    "|Jupyter Notebook|\n",
    "|RStudio|\n",
    "|Visual Studio Code|"
   ]
  },
  {
   "cell_type": "markdown",
   "id": "2b4b8aba-98eb-4a75-8530-87bb263c8637",
   "metadata": {},
   "source": [
    "### Below are a few examples of evaluating arithmetic expressions in Python"
   ]
  },
  {
   "cell_type": "code",
   "execution_count": 1,
   "id": "bddd96f8-5693-4131-901b-7a360aeb66dd",
   "metadata": {},
   "outputs": [
    {
     "data": {
      "text/plain": [
       "17"
      ]
     },
     "execution_count": 1,
     "metadata": {},
     "output_type": "execute_result"
    }
   ],
   "source": [
    "#This is a simple arithmetic expression to multiply then add integers\n",
    "\n",
    "(3*4)+5"
   ]
  },
  {
   "cell_type": "code",
   "execution_count": 2,
   "id": "8f23c865-4055-4fac-9278-e063cd9b3533",
   "metadata": {},
   "outputs": [
    {
     "name": "stdout",
     "output_type": "stream",
     "text": [
      "3.3333333333333335\n"
     ]
    }
   ],
   "source": [
    "#This will convert 200 minutes to hours by diving by 60\n",
    "\n",
    "minutes = 200\n",
    "hours = minutes/60\n",
    "print(hours)"
   ]
  },
  {
   "cell_type": "markdown",
   "id": "4524b198-89ac-49f9-8e6a-09a07ff19ea6",
   "metadata": {},
   "source": [
    "## Author\n",
    "Delight"
   ]
  },
  {
   "cell_type": "code",
   "execution_count": null,
   "id": "b1c1515e-4ec8-4b49-a684-a4e4ee91b1d6",
   "metadata": {},
   "outputs": [],
   "source": []
  }
 ],
 "metadata": {
  "kernelspec": {
   "display_name": "Python 3 (ipykernel)",
   "language": "python",
   "name": "python3"
  },
  "language_info": {
   "codemirror_mode": {
    "name": "ipython",
    "version": 3
   },
   "file_extension": ".py",
   "mimetype": "text/x-python",
   "name": "python",
   "nbconvert_exporter": "python",
   "pygments_lexer": "ipython3",
   "version": "3.11.9"
  }
 },
 "nbformat": 4,
 "nbformat_minor": 5
}
